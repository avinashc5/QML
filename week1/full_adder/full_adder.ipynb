{
 "cells": [
  {
   "cell_type": "code",
   "execution_count": 1,
   "metadata": {},
   "outputs": [],
   "source": [
    "from qiskit import QuantumCircuit\n",
    "from qiskit_aer import AerSimulator"
   ]
  },
  {
   "cell_type": "code",
   "execution_count": 2,
   "metadata": {},
   "outputs": [],
   "source": [
    "def full_adder(a, b, cin):\n",
    "\tfull_adder = QuantumCircuit(5, 2)\n",
    "\tfull_adder.initialize('00' + str(cin) + str(b) + str(a))\n",
    "\tfull_adder.barrier()\n",
    "\n",
    "\tfull_adder.cx(0, 3)\n",
    "\tfull_adder.cx(1, 3)\n",
    "\tfull_adder.cx(2, 3)\n",
    "\tfull_adder.barrier()\n",
    "\n",
    "\tfull_adder.ccx(0, 1, 4)\n",
    "\tfull_adder.ccx(0, 2, 4)\n",
    "\tfull_adder.ccx(1, 2, 4)\n",
    "\tfull_adder.barrier()\n",
    "\n",
    "\tfull_adder.measure(3, 0)\n",
    "\tfull_adder.measure(4, 1)\n",
    "\tfull_adder.barrier()\n",
    "\n",
    "\tsimulator = AerSimulator()\n",
    "\tresult = simulator.run(full_adder).result()\n",
    "\tcounts = result.get_counts(full_adder)\n",
    "\n",
    "\treturn list(counts.keys())[0]"
   ]
  },
  {
   "cell_type": "code",
   "execution_count": 3,
   "metadata": {},
   "outputs": [
    {
     "name": "stdout",
     "output_type": "stream",
     "text": [
      "1 + 1 + 0 = 10\n"
     ]
    }
   ],
   "source": [
    "a = 1\n",
    "b = 1\n",
    "cin = 0\n",
    "addition = full_adder(a, b, cin)\n",
    "print(str(a) + ' + ' + str(b) + ' + ' + str(cin) + ' = ' + addition)"
   ]
  },
  {
   "cell_type": "code",
   "execution_count": null,
   "metadata": {},
   "outputs": [],
   "source": []
  }
 ],
 "metadata": {
  "kernelspec": {
   "display_name": "usr",
   "language": "python",
   "name": "python3"
  },
  "language_info": {
   "codemirror_mode": {
    "name": "ipython",
    "version": 3
   },
   "file_extension": ".py",
   "mimetype": "text/x-python",
   "name": "python",
   "nbconvert_exporter": "python",
   "pygments_lexer": "ipython3",
   "version": "3.12.3"
  }
 },
 "nbformat": 4,
 "nbformat_minor": 2
}
